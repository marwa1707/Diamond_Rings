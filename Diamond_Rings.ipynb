{
 "metadata": {
  "language_info": {
   "codemirror_mode": {
    "name": "ipython",
    "version": 3
   },
   "file_extension": ".py",
   "mimetype": "text/x-python",
   "name": "python",
   "nbconvert_exporter": "python",
   "pygments_lexer": "ipython3",
   "version": "3.8.3-final"
  },
  "orig_nbformat": 2,
  "kernelspec": {
   "name": "python3",
   "display_name": "Python 3",
   "language": "python"
  }
 },
 "nbformat": 4,
 "nbformat_minor": 2,
 "cells": [
  {
   "cell_type": "code",
   "execution_count": 2,
   "metadata": {},
   "outputs": [
    {
     "output_type": "stream",
     "name": "stdout",
     "text": [
      "time out\n"
     ]
    }
   ],
   "source": [
    "from selenium import webdriver\n",
    "from time import sleep\n",
    "\n",
    "driver = webdriver.Chrome('ChromeDriver/chromedriver')\n",
    "driver.set_page_load_timeout(2)\n",
    "\n",
    "try:\n",
    "    driver.get(\"https://jewelry.ha.com/c/search-results.zx?N=776+790+231+2040&Ne=2014&erpp=204\")\n",
    "except:\n",
    "    print(\"time out\")"
   ]
  },
  {
   "cell_type": "code",
   "execution_count": 3,
   "metadata": {},
   "outputs": [],
   "source": [
    "URL_Links = []\n",
    "Condition = True\n",
    "\n",
    "while Condition:\n",
    "    sleep(5)\n",
    "    search_result = driver.find_elements_by_class_name('item-title')\n",
    "    search_result = [link.get_attribute('href') for link in search_result]\n",
    "    URL_Links.append(search_result)\n",
    "    try:\n",
    "        driver.find_element_by_xpath('//*[@id=\"tabs-1\"]/div[3]/a[12]').click()\n",
    "    except:\n",
    "        Condition = False\n"
   ]
  },
  {
   "cell_type": "code",
   "execution_count": 6,
   "metadata": {},
   "outputs": [
    {
     "output_type": "stream",
     "name": "stdout",
     "text": [
      "205\n"
     ]
    }
   ],
   "source": [
    "URL_Link = []\n",
    "for links in URL_Links:\n",
    "    for link in search_result:\n",
    "        URL_Link.append(link)\n",
    "print(len(URL_Link))"
   ]
  },
  {
   "cell_type": "code",
   "execution_count": 11,
   "metadata": {},
   "outputs": [
    {
     "output_type": "stream",
     "name": "stdout",
     "text": [
      "TIME OUT\n"
     ]
    }
   ],
   "source": [
    "import pandas as pd\n",
    "diamond_ring_data_2 = { 'Rings': []}\n",
    "\n",
    "for link in url:\n",
    "    try:\n",
    "        driver.get(link)\n",
    "        sleep(3)\n",
    "    except:\n",
    "        print('TIME OUT')\n",
    "\n",
    "    sleep(5)\n",
    "    try:\n",
    "        ring_price = driver.find_element_by_xpath('//*[@id=\"page-content\"]/div/div[5]/div[1]/div[3]/div/div/small[2]').text\n",
    "    except:\n",
    "        ring_price = None\n",
    "    try:\n",
    "        description = driver.find_element_by_xpath('//*[@id=\"auction-description\"]/span').text\n",
    "    except:\n",
    "        description = None\n",
    "    try:\n",
    "        condition_report = driver.find_element_by_xpath('//*[@id=\"condition-report\"]').text\n",
    "    except:\n",
    "        condition_report = None\n",
    "\n",
    "    ring = {\n",
    "        'Ring Price': [ring_price],\n",
    "        'Description':[description],\n",
    "        'Condition Report':[condition_report]\n",
    "    }\n",
    "\n",
    "    diamond_ring_data_2['Rings'].append(ring)\n",
    "    df = pd.DataFrame.from_dict(diamond_ring_data_2)\n",
    "    df.to_csv('diamond_ring_data_2.csv')\n"
   ]
  },
  {
   "cell_type": "code",
   "execution_count": 97,
   "metadata": {},
   "outputs": [],
   "source": [
    "features_dictionary = {'Carat': [], 'Count': [], 'Price': []}"
   ]
  },
  {
   "cell_type": "code",
   "execution_count": 124,
   "metadata": {
    "tags": []
   },
   "outputs": [
    {
     "output_type": "stream",
     "name": "stdout",
     "text": [
      "1778\n1440\n1445\n1405\n"
     ]
    }
   ],
   "source": [
    "import pandas as pd\n",
    "\n",
    "features_dictionary = {'Carat': [], 'Count': [], 'Gross Weight': [], 'Price': []}\n",
    "data_frame = pd.read_csv('..\\Diamond_Rings_data\\daimond_ring_data.csv')\n",
    "data_frame = data_frame.to_dict('records')\n",
    "\n",
    "for ring in data_frame :\n",
    "    try:\n",
    "        mask = ring['Sold Price'].split('FOR: $')[1]\n",
    "        mask = mask.replace(',', '')\n",
    "        mask = mask.replace('.', '')\n",
    "        features_dictionary['Price'].append(float(mask))\n",
    "    except:\n",
    "        features_dictionary['Price'].append(None)\n",
    "    if 'Gem' not in condition_report:\n",
    "        condition_report = ring['Condition Report'].split('\\n')\n",
    "        for item in condition_report:\n",
    "            try:\n",
    "                if 'Count:' in item:\n",
    "                    features_dictionary['Count'].append(item.split(': ')[1])\n",
    "            except:\n",
    "                features_dictionary['Count'].append(None)\n",
    "\n",
    "    description = ring['Description'].split(',')\n",
    "    for item in description:\n",
    "        try:\n",
    "            if 'Gross weight' in item:\n",
    "                mask = item.split('Gross weight')[1]\n",
    "                mask = float(mask.split('grams')[0])\n",
    "                features_dictionary['Gross Weight'].append(mask)\n",
    "        except:\n",
    "            features_dictionary['Gross Weight'].append(None)\n",
    "        try:\n",
    "            if 'measuring' in item:\n",
    "                mask = item.split('measuring')[1]\n",
    "                mask = mask.split('weighing')[1]\n",
    "                if 'approximately' in mask:\n",
    "                    mask = mask.split('approximately')[1]\n",
    "                if 'respectively' in mask:\n",
    "                    mask = mask.split('respectively')[1]\n",
    "                if 'a total of' in mask:\n",
    "                    mask = mask.split('a total of')[1]\n",
    "                mask = mask.split('carat')[0]\n",
    "                features_dictionary['Carat'].append(float(mask))\n",
    "        except:\n",
    "            features_dictionary['Carat'].append(None)\n",
    "\n",
    "    # df = pd.DataFrame.from_dict(features_dictionary)\n",
    "    # df.to_csv('processed_data.csv')\n",
    "                    \n",
    "print(len(features_dictionary['Count']))\n",
    "print(len(features_dictionary['Carat']))\n",
    "print(len(features_dictionary['Price']))\n",
    "print(len(features_dictionary['Gross Weight']))\n"
   ]
  },
  {
   "cell_type": "code",
   "execution_count": 125,
   "metadata": {},
   "outputs": [],
   "source": [
    "# pf = pd.DataFrame(data_frame)\n",
    "# pf"
   ]
  },
  {
   "cell_type": "code",
   "execution_count": null,
   "metadata": {},
   "outputs": [],
   "source": []
  }
 ]
}