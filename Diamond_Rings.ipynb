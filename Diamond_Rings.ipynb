{
 "metadata": {
  "language_info": {
   "codemirror_mode": {
    "name": "ipython",
    "version": 3
   },
   "file_extension": ".py",
   "mimetype": "text/x-python",
   "name": "python",
   "nbconvert_exporter": "python",
   "pygments_lexer": "ipython3",
   "version": "3.8.3-final"
  },
  "orig_nbformat": 2,
  "kernelspec": {
   "name": "python3",
   "display_name": "Python 3",
   "language": "python"
  }
 },
 "nbformat": 4,
 "nbformat_minor": 2,
 "cells": [
  {
   "cell_type": "code",
   "execution_count": 37,
   "metadata": {},
   "outputs": [
    {
     "output_type": "stream",
     "name": "stdout",
     "text": [
      "time out\n"
     ]
    }
   ],
   "source": [
    "from selenium import webdriver\n",
    "from time import sleep\n",
    "\n",
    "driver = webdriver.Chrome('ChromeDriver/chromedriver')\n",
    "driver.set_page_load_timeout(2)\n",
    "\n",
    "try:\n",
    "    driver.get(\"https://jewelry.ha.com/c/search-results.zx?N=776+790+231+2040&Ne=2014&erpp=204\")\n",
    "except:\n",
    "    print(\"time out\")"
   ]
  },
  {
   "cell_type": "code",
   "execution_count": 120,
   "metadata": {},
   "outputs": [],
   "source": [
    "Condition = True\n",
    "# URL_Links = []\n",
    "\n",
    "while Condition:\n",
    "\n",
    "    sleep(3)\n",
    "    search_result = driver.find_elements_by_class_name('item-title')\n",
    "    search_result = [link.get_attribute('href') for link in search_result]\n",
    "    URL_Links.append(search_result)\n",
    "    try:\n",
    "        driver.find_element_by_xpath('//*[@id=\"tabs-1\"]/div[3]/a[12]').click()\n",
    "        sleep(8)\n",
    "    except:\n",
    "        Condition = False\n"
   ]
  },
  {
   "cell_type": "code",
   "execution_count": 121,
   "metadata": {},
   "outputs": [
    {
     "output_type": "stream",
     "name": "stdout",
     "text": [
      "4477\n"
     ]
    }
   ],
   "source": [
    "URL_Link = []\n",
    "for links in URL_Links:\n",
    "    for link in search_result:\n",
    "        URL_Link.append(link)\n",
    "print(len(URL_Link))"
   ]
  },
  {
   "cell_type": "code",
   "execution_count": 123,
   "metadata": {},
   "outputs": [],
   "source": [
    "import json\n",
    "#saving list of links into a json file\n",
    "url = {'links' : URL_Link}\n",
    "with open('url.json', 'w') as jsonfile:\n",
    "    json.dump(url, jsonfile)"
   ]
  },
  {
   "cell_type": "code",
   "execution_count": 2,
   "metadata": {},
   "outputs": [],
   "source": [
    "import json\n",
    "with open('url.json') as json_file:\n",
    "    url = json.load(json_file)"
   ]
  },
  {
   "cell_type": "code",
   "execution_count": 3,
   "metadata": {},
   "outputs": [],
   "source": [
    "url_link = url['links']"
   ]
  },
  {
   "cell_type": "code",
   "execution_count": 12,
   "metadata": {},
   "outputs": [
    {
     "output_type": "stream",
     "name": "stdout",
     "text": [
      "TIME OUT\n",
      "{'Ring Price': 'SOLD ON DEC 6, 2011 FOR: $507.88', 'Description': 'Diamond, White Gold Ring\\nThe ring features full-cut diamonds weighing a total of approximately 0.15 carat, set in 18k white gold, Italian hallmarks. Gross weight 12.50 grams.\\nSize: 6 (not sizeable)', 'Condition Report': 'Condition Report*:\\nDiamond Average Color: G-H-I\\nDiamond Average Clarity: SI\\nDiamond Shapes: Full-cut\\nDiamond Count: 1 - 25\\nOverall Condition: Excellent'}\n",
      "TIME OUT\n",
      "{'Ring Price': 'SOLD ON MAY 3, 2011 FOR: $507.88', 'Description': \"Carved Opal, Diamond, Gold Ring\\nThe ring features a carved opal depicting a lady's profile measuring 38.00 x 18.00 mm, accented by a full-cut diamond weighing approximately 0.12 carat, set in 14k gold. Gross weight 18.70 grams.\\n*Note: Size 7-1/4 (sizeable)\\n\\nThe Property of the Mary Grace Horlock Estate\", 'Condition Report': 'Condition Report*:\\nDiamond Average Color: J-K-L\\nDiamond Average Clarity: VS\\nDiamond Shapes: Full-cut\\nDiamond Count: 1 - 25\\nGem Type: Opal\\nGem Average Clarity: Good\\nGem Shape: Carved\\nGem Count: 1 - 25\\nOverall Condition: Very Good'}\n",
      "TIME OUT\n"
     ]
    }
   ],
   "source": [
    "import pandas as pd\n",
    "diamond_ring_data_2 = pd.DataFrame()\n",
    "Ring = {}\n",
    "\n",
    "for link in url_link:\n",
    "    try:\n",
    "        driver.get(link)\n",
    "        sleep(3)\n",
    "    except:\n",
    "        print('TIME OUT')\n",
    "\n",
    "    sleep(5)\n",
    "    try:\n",
    "        ring_price = driver.find_element_by_xpath('//*[@id=\"page-content\"]/div/div[5]/div[1]/div[3]/div/div/small[2]').text\n",
    "    except:\n",
    "        ring_price = None\n",
    "    try:\n",
    "        description = driver.find_element_by_xpath('//*[@id=\"auction-description\"]/span').text\n",
    "    except:\n",
    "        description = None\n",
    "    try:\n",
    "        condition_report = driver.find_element_by_xpath('//*[@id=\"condition-report\"]').text\n",
    "    except:\n",
    "        condition_report = None\n",
    "\n",
    "    ring = {\n",
    "        'Ring Price': ring_price,\n",
    "        'Description': description,\n",
    "        'Condition Report' : condition_report\n",
    "    }\n",
    "    print(ring)\n",
    "    diamond_ring_data_2 = diamond_ring_data_2.append(ring, ignore_index=True)\n",
    "    diamond_ring_data_2.to_csv('diamond_ring_data_3.csv')\n"
   ]
  },
  {
   "cell_type": "code",
   "execution_count": 1,
   "metadata": {
    "tags": []
   },
   "outputs": [],
   "source": [
    "import pandas as pd\n",
    "import re\n",
    "\n",
    "data_frame = pd.read_csv('..\\Diamond_Rings_data\\daimond_ring_data.csv')\n"
   ]
  },
  {
   "cell_type": "code",
   "execution_count": 2,
   "metadata": {},
   "outputs": [
    {
     "output_type": "execute_result",
     "data": {
      "text/plain": [
       "   Unnamed: 0                                   Condition Report  \\\n",
       "0           0  Condition Report*:\\nDiamonds:\\nAvg Color: G-H-...   \n",
       "1           1  Condition Report*:\\nDiamonds:\\nAvg Color: G-H-...   \n",
       "2           2  Condition Report*:\\nDiamonds:\\nAvg Color: M+\\n...   \n",
       "3           3  Condition Report*:\\nDiamonds:\\nAvg Color: M+\\n...   \n",
       "4           4  Condition Report*:\\nDiamond Average Color: G-H...   \n",
       "\n",
       "                                         Description  \\\n",
       "0  Diamond, Platinum Ring\\nThe ring features a ma...   \n",
       "1  Diamond, White Gold Ring\\nThe ring features a ...   \n",
       "2  Diamond, Platinum, White Gold Ring, French\\nTh...   \n",
       "3  Diamond, Platinum Ring\\nThe ring features a Eu...   \n",
       "4  Fancy Light Yellow Diamond, Diamond, Gold Ring...   \n",
       "\n",
       "                             Sold Price  \n",
       "0   SOLD ON OCT 5, 2020 FOR: $40,000.00  \n",
       "1   SOLD ON DEC 8, 2019 FOR: $40,000.00  \n",
       "2  SOLD ON JUN 26, 2017 FOR: $40,000.00  \n",
       "3   SOLD ON APR 3, 2017 FOR: $40,000.00  \n",
       "4  SOLD ON APR 19, 2016 FOR: $40,000.00  "
      ],
      "text/html": "<div>\n<style scoped>\n    .dataframe tbody tr th:only-of-type {\n        vertical-align: middle;\n    }\n\n    .dataframe tbody tr th {\n        vertical-align: top;\n    }\n\n    .dataframe thead th {\n        text-align: right;\n    }\n</style>\n<table border=\"1\" class=\"dataframe\">\n  <thead>\n    <tr style=\"text-align: right;\">\n      <th></th>\n      <th>Unnamed: 0</th>\n      <th>Condition Report</th>\n      <th>Description</th>\n      <th>Sold Price</th>\n    </tr>\n  </thead>\n  <tbody>\n    <tr>\n      <th>0</th>\n      <td>0</td>\n      <td>Condition Report*:\\nDiamonds:\\nAvg Color: G-H-...</td>\n      <td>Diamond, Platinum Ring\\nThe ring features a ma...</td>\n      <td>SOLD ON OCT 5, 2020 FOR: $40,000.00</td>\n    </tr>\n    <tr>\n      <th>1</th>\n      <td>1</td>\n      <td>Condition Report*:\\nDiamonds:\\nAvg Color: G-H-...</td>\n      <td>Diamond, White Gold Ring\\nThe ring features a ...</td>\n      <td>SOLD ON DEC 8, 2019 FOR: $40,000.00</td>\n    </tr>\n    <tr>\n      <th>2</th>\n      <td>2</td>\n      <td>Condition Report*:\\nDiamonds:\\nAvg Color: M+\\n...</td>\n      <td>Diamond, Platinum, White Gold Ring, French\\nTh...</td>\n      <td>SOLD ON JUN 26, 2017 FOR: $40,000.00</td>\n    </tr>\n    <tr>\n      <th>3</th>\n      <td>3</td>\n      <td>Condition Report*:\\nDiamonds:\\nAvg Color: M+\\n...</td>\n      <td>Diamond, Platinum Ring\\nThe ring features a Eu...</td>\n      <td>SOLD ON APR 3, 2017 FOR: $40,000.00</td>\n    </tr>\n    <tr>\n      <th>4</th>\n      <td>4</td>\n      <td>Condition Report*:\\nDiamond Average Color: G-H...</td>\n      <td>Fancy Light Yellow Diamond, Diamond, Gold Ring...</td>\n      <td>SOLD ON APR 19, 2016 FOR: $40,000.00</td>\n    </tr>\n  </tbody>\n</table>\n</div>"
     },
     "metadata": {},
     "execution_count": 2
    }
   ],
   "source": [
    "pf = pd.DataFrame(data_frame)\n",
    "pf.head()"
   ]
  },
  {
   "cell_type": "code",
   "execution_count": 14,
   "metadata": {},
   "outputs": [
    {
     "output_type": "execute_result",
     "data": {
      "text/plain": [
       "0    Condition Report*:\\nDiamonds:\\nAvg Color: G-H-...\n",
       "1    Condition Report*:\\nDiamonds:\\nAvg Color: G-H-...\n",
       "2    Condition Report*:\\nDiamonds:\\nAvg Color: M+\\n...\n",
       "3    Condition Report*:\\nDiamonds:\\nAvg Color: M+\\n...\n",
       "4    Condition Report*:\\nDiamond Average Color: G-H...\n",
       "Name: Condition Report, dtype: object"
      ]
     },
     "metadata": {},
     "execution_count": 14
    }
   ],
   "source": [
    "m = pf['Condition Report']\n",
    "m.head()"
   ]
  },
  {
   "cell_type": "code",
   "execution_count": 15,
   "metadata": {},
   "outputs": [],
   "source": [
    "m = m.str.split('\\n')\n"
   ]
  },
  {
   "cell_type": "code",
   "execution_count": 17,
   "metadata": {},
   "outputs": [
    {
     "output_type": "execute_result",
     "data": {
      "text/plain": [
       "['Condition Report*:',\n",
       " 'Diamonds:',\n",
       " 'Avg Color: G-H-I',\n",
       " 'Avg Clarity: SI',\n",
       " 'Shape(s): Triangular',\n",
       " 'Count: 1 - 25',\n",
       " '',\n",
       " 'Certified Diamonds:',\n",
       " 'Stone: 1',\n",
       " 'Lab: GIA',\n",
       " 'Certification #: 2173379507',\n",
       " 'Carat: 3.09',\n",
       " 'Color: I',\n",
       " 'Clarity: VS1',\n",
       " 'Shape: Emerald-cut',\n",
       " '',\n",
       " 'Metals:',\n",
       " 'Platinum',\n",
       " '',\n",
       " 'Overall Condition: Very Good',\n",
       " 'Condition Notes: Stamped for platinum. A gorgeous, classic ring!']"
      ]
     },
     "metadata": {},
     "execution_count": 17
    }
   ],
   "source": [
    "m[110]"
   ]
  },
  {
   "cell_type": "code",
   "execution_count": 315,
   "metadata": {},
   "outputs": [],
   "source": [
    "\n",
    "def get_diamond_count(x):\n",
    "    for item in x:\n",
    "        if 'Gem' not in item:\n",
    "            if 'Count' in item and ':' in item and '-'in item:\n",
    "                mask = item.split('-')[1]\n",
    "                return int(mask)\n",
    "            elif 'Count' in item and '-' in item:\n",
    "                return int(item.split('-')[1])\n",
    "            elif 'Count' in item and ':' in item and '+' in item:\n",
    "                mask = item.split(':')[1]\n",
    "                mask = mask.split('+')[0]\n",
    "                return int(mask)\n",
    "            elif 'Count' in item and '+' in item:\n",
    "                mask = item.split('Count')[1]\n",
    "                mask = mask.split('+')[0]\n",
    "                return int(mask)\n",
    "            else:\n",
    "                pass\n",
    "        else:\n",
    "            pass\n",
    "        \n"
   ]
  },
  {
   "cell_type": "code",
   "execution_count": 316,
   "metadata": {},
   "outputs": [],
   "source": [
    "diamond_count = m.apply(get_diamond_count)"
   ]
  },
  {
   "cell_type": "code",
   "execution_count": 7,
   "metadata": {},
   "outputs": [],
   "source": [
    "# pd.set_option('display.max_rows', None)"
   ]
  },
  {
   "cell_type": "code",
   "execution_count": 317,
   "metadata": {},
   "outputs": [
    {
     "output_type": "execute_result",
     "data": {
      "text/plain": [
       "0    25.0\n",
       "1    50.0\n",
       "2    25.0\n",
       "3    25.0\n",
       "4    25.0\n",
       "Name: Condition Report, dtype: float64"
      ]
     },
     "metadata": {},
     "execution_count": 317
    }
   ],
   "source": [
    "\n",
    "diamond_count.head()\n"
   ]
  },
  {
   "cell_type": "code",
   "execution_count": 118,
   "metadata": {},
   "outputs": [
    {
     "output_type": "execute_result",
     "data": {
      "text/plain": [
       "0     SOLD ON OCT 5, 2020 FOR: $40,000.00\n",
       "1     SOLD ON DEC 8, 2019 FOR: $40,000.00\n",
       "2    SOLD ON JUN 26, 2017 FOR: $40,000.00\n",
       "3     SOLD ON APR 3, 2017 FOR: $40,000.00\n",
       "4    SOLD ON APR 19, 2016 FOR: $40,000.00\n",
       "Name: Sold Price, dtype: object"
      ]
     },
     "metadata": {},
     "execution_count": 118
    }
   ],
   "source": [
    "m1 = pf['Sold Price']\n",
    "m1.head()"
   ]
  },
  {
   "cell_type": "code",
   "execution_count": 26,
   "metadata": {},
   "outputs": [],
   "source": [
    "def clean_price(x):\n",
    "    for item in x:\n",
    "        mask = x.split('$')[1]\n",
    "        mask = mask.replace(',', '')\n",
    "        mask = mask.replace('.', '')\n",
    "        return float(mask)"
   ]
  },
  {
   "cell_type": "code",
   "execution_count": 298,
   "metadata": {},
   "outputs": [
    {
     "output_type": "execute_result",
     "data": {
      "text/plain": [
       "0    4000000.0\n",
       "1    4000000.0\n",
       "2    4000000.0\n",
       "3    4000000.0\n",
       "4    4000000.0\n",
       "Name: Sold Price, dtype: float64"
      ]
     },
     "metadata": {},
     "execution_count": 298
    }
   ],
   "source": [
    "diamond_ring_price = m1.apply(clean_price)\n",
    "diamond_ring_price.head()"
   ]
  },
  {
   "cell_type": "code",
   "execution_count": 281,
   "metadata": {},
   "outputs": [
    {
     "output_type": "execute_result",
     "data": {
      "text/plain": [
       "0    Diamond, Platinum Ring\\nThe ring features a ma...\n",
       "1    Diamond, White Gold Ring\\nThe ring features a ...\n",
       "2    Diamond, Platinum, White Gold Ring, French\\nTh...\n",
       "3    Diamond, Platinum Ring\\nThe ring features a Eu...\n",
       "4    Fancy Light Yellow Diamond, Diamond, Gold Ring...\n",
       "Name: Description, dtype: object"
      ]
     },
     "metadata": {},
     "execution_count": 281
    }
   ],
   "source": [
    "m2= pf['Description']\n",
    "m2.head()"
   ]
  },
  {
   "cell_type": "code",
   "execution_count": 282,
   "metadata": {},
   "outputs": [],
   "source": [
    "m2 = m2.str.split('\\n')"
   ]
  },
  {
   "cell_type": "code",
   "execution_count": 151,
   "metadata": {},
   "outputs": [],
   "source": [
    "def get_gross_weight(x):\n",
    "    for item in x:\n",
    "        if 'Gross weight' in item:\n",
    "            mask = item.split('Gross weight')[1]\n",
    "            mask = mask.split('grams')[0]\n",
    "            if 'is' in mask:\n",
    "                return float(mask.split('is')[1])\n",
    "            else:\n",
    "                return float(mask)\n",
    "        else:\n",
    "            pass"
   ]
  },
  {
   "cell_type": "code",
   "execution_count": 286,
   "metadata": {},
   "outputs": [],
   "source": [
    "def get_size(x):\n",
    "    for item in x:\n",
    "        if 'Size:' in item and '(sizeable)' in item :\n",
    "            mask = item.split('Size:')[1]\n",
    "            mask = mask.split('(sizeable)')[0]\n",
    "            if '-' in mask:\n",
    "                mask = mask.split('-')[0]\n",
    "                return mask\n",
    "            elif '(sizeable)' in mask:\n",
    "                mask =  mask.split('(sizeable)')[0]\n",
    "                return mask\n",
    "            elif 's:' in mask:\n",
    "                mask = mask.split('s')[1]\n",
    "                return mask\n",
    "            else:\n",
    "                pass\n",
    "            return mask\n",
    "        elif 'Size' in item and '(sizeable)' in item:\n",
    "            mask = item.split('Size')[1]\n",
    "            mask.split('(sizeable)')[0]\n",
    "            if '-' in mask:\n",
    "                mask = mask.split('-')[0]\n",
    "                return mask\n",
    "            elif '(sizeable)' in mask:\n",
    "                mask =  mask.split('(sizeable)')[0]\n",
    "                return mask\n",
    "            elif 's:' in mask:\n",
    "                mask = mask.split('s')[1]\n",
    "                return mask\n",
    "            else:\n",
    "                pass\n",
    "            return mask\n",
    "        if 'Size :' in item and '(sizeable)' in item:\n",
    "            mask = item.split('Size :')[1]\n",
    "            mask = mask.split('(sizeable)')[0]\n",
    "            if '-' in mask:\n",
    "                mask = mask.split('-')[0]\n",
    "                return mask\n",
    "            elif '(sizeable)' in mask:\n",
    "                mask =  mask.split('(sizeable)')[0]\n",
    "                return mask\n",
    "            elif 's:' in mask:\n",
    "                mask = mask.split('s')[1]\n",
    "                return mask\n",
    "            else:\n",
    "                pass\n",
    "            return mask\n",
    "        else:\n",
    "            pass\n"
   ]
  },
  {
   "cell_type": "code",
   "execution_count": 299,
   "metadata": {},
   "outputs": [
    {
     "output_type": "execute_result",
     "data": {
      "text/plain": [
       "0    5.10\n",
       "1    6.90\n",
       "2    4.47\n",
       "3    5.51\n",
       "4    5.90\n",
       "Name: Description, dtype: float64"
      ]
     },
     "metadata": {},
     "execution_count": 299
    }
   ],
   "source": [
    "ring_gross_weight = m2.apply(get_gross_weight)\n",
    "ring_gross_weight.head()"
   ]
  },
  {
   "cell_type": "code",
   "execution_count": 300,
   "metadata": {},
   "outputs": [],
   "source": [
    "ring_size = m2.apply(get_size)\n"
   ]
  },
  {
   "cell_type": "code",
   "execution_count": 301,
   "metadata": {},
   "outputs": [
    {
     "output_type": "execute_result",
     "data": {
      "text/plain": [
       "0    6.0\n",
       "1    6.0\n",
       "2    4.0\n",
       "3    6.0\n",
       "4    6.0\n",
       "Name: Description, dtype: float64"
      ]
     },
     "metadata": {},
     "execution_count": 301
    }
   ],
   "source": [
    "ring_size = pd.to_numeric(size, errors='coerce')\n",
    "ring_size.head()"
   ]
  },
  {
   "cell_type": "code",
   "execution_count": 65,
   "metadata": {},
   "outputs": [],
   "source": [
    "m3 = pf['Description']"
   ]
  },
  {
   "cell_type": "code",
   "execution_count": 8,
   "metadata": {},
   "outputs": [],
   "source": [
    "m3 = m3.str.split('\\n')"
   ]
  },
  {
   "cell_type": "code",
   "execution_count": 66,
   "metadata": {},
   "outputs": [
    {
     "output_type": "execute_result",
     "data": {
      "text/plain": [
       "'Ruby, Diamond, Platinum, Gold Ring\\nThe ring features a cushion-shaped ruby measuring 10.10 x 9.60 x 4.00 mm and weighing approximately 3.60 carats, enhanced by full-cut diamonds weighing a total of approximately 1.55 carats, accented by tapered baguette-cut diamonds weighing a total of approximately 1.20 carats, set in platinum, completed by an 18k gold shank. Total diamond weight is approximately 2.75 carats. Gross weight 13.75 grams.\\n*Note: Size 6 (sizeable)\\n\\nThe Property of the Estate of John R. Archer'"
      ]
     },
     "metadata": {},
     "execution_count": 66
    }
   ],
   "source": [
    "m3[1110]"
   ]
  },
  {
   "cell_type": "code",
   "execution_count": 52,
   "metadata": {},
   "outputs": [],
   "source": [
    "Diamond_Rings_data = {\n",
    "    'Ring Metal' : ['Platinum'],\n",
    "    'Diamonds shape in each Ring' : ['emerald-cut diamond, triangular-shaped diamonds'],\n",
    "    'Gems shape if any' :[None],\n",
    "    'Measurments in mm' : ['11.48 , 7.29 , 4.08'],\n",
    "    'Diamond Weights in Carats' : [' 3.09 , 1.50'],\n",
    "    'Gem Weight in Carat' : [None],\n",
    "    'Diamond Avg Color' : ['G-H-I'],\n",
    "    'Diamond Avg Clarity' : ['SI'],\n",
    "    'Gem Type if any' : [None],\n",
    "    'Gem Average Clarity' : [None],\n",
    "    'Gem Min Count': [None],\n",
    "    'Gem Max Count': [None],\n",
    "    'Diamond Min Count' : ['1'],\n",
    "    'Diamond Max Count' : ['25'],\n",
    "    'Ring Gross Weight in Grams' : ['6.60'],\n",
    "    'Overall Condition' : ['Very Good'],}\n",
    "\n",
    "dataframe = pd.DataFrame.from_dict(Diamond_Rings_data)\n"
   ]
  },
  {
   "cell_type": "code",
   "execution_count": 53,
   "metadata": {},
   "outputs": [
    {
     "output_type": "execute_result",
     "data": {
      "text/plain": [
       "  Ring Metal                      Diamonds shape in each Ring  \\\n",
       "0   Platinum  emerald-cut diamond, triangular-shaped diamonds   \n",
       "\n",
       "  Gems shape if any    Measurments in mm Diamond Weights in Carats  \\\n",
       "0              None  11.48 , 7.29 , 4.08               3.09 , 1.50   \n",
       "\n",
       "  Gem Weight in Carat Diamond Avg Color Diamond Avg Clarity Gem Type if any  \\\n",
       "0                None             G-H-I                  SI            None   \n",
       "\n",
       "  Gem Average Clarity Gem Min Count Gem Max Count Diamond Min Count  \\\n",
       "0                None          None          None                 1   \n",
       "\n",
       "  Diamond Max Count Ring Gross Weight in Grams Overall Condition  \n",
       "0                25                       6.60         Very Good  "
      ],
      "text/html": "<div>\n<style scoped>\n    .dataframe tbody tr th:only-of-type {\n        vertical-align: middle;\n    }\n\n    .dataframe tbody tr th {\n        vertical-align: top;\n    }\n\n    .dataframe thead th {\n        text-align: right;\n    }\n</style>\n<table border=\"1\" class=\"dataframe\">\n  <thead>\n    <tr style=\"text-align: right;\">\n      <th></th>\n      <th>Ring Metal</th>\n      <th>Diamonds shape in each Ring</th>\n      <th>Gems shape if any</th>\n      <th>Measurments in mm</th>\n      <th>Diamond Weights in Carats</th>\n      <th>Gem Weight in Carat</th>\n      <th>Diamond Avg Color</th>\n      <th>Diamond Avg Clarity</th>\n      <th>Gem Type if any</th>\n      <th>Gem Average Clarity</th>\n      <th>Gem Min Count</th>\n      <th>Gem Max Count</th>\n      <th>Diamond Min Count</th>\n      <th>Diamond Max Count</th>\n      <th>Ring Gross Weight in Grams</th>\n      <th>Overall Condition</th>\n    </tr>\n  </thead>\n  <tbody>\n    <tr>\n      <th>0</th>\n      <td>Platinum</td>\n      <td>emerald-cut diamond, triangular-shaped diamonds</td>\n      <td>None</td>\n      <td>11.48 , 7.29 , 4.08</td>\n      <td>3.09 , 1.50</td>\n      <td>None</td>\n      <td>G-H-I</td>\n      <td>SI</td>\n      <td>None</td>\n      <td>None</td>\n      <td>None</td>\n      <td>None</td>\n      <td>1</td>\n      <td>25</td>\n      <td>6.60</td>\n      <td>Very Good</td>\n    </tr>\n  </tbody>\n</table>\n</div>"
     },
     "metadata": {},
     "execution_count": 53
    }
   ],
   "source": [
    "dataframe.head()"
   ]
  },
  {
   "cell_type": "code",
   "execution_count": 62,
   "metadata": {},
   "outputs": [],
   "source": [
    "Diamond_Rings_data1 = {'Ring Metal' : ['Platinum, Gold Ring'],\n",
    "    'Diamonds shape in each Ring' : ['full-cut diamonds, baguette-cut diamonds'],\n",
    "    'Gems shape if any' :['cushion-shaped ruby'],\n",
    "    'Measurments in mm' : ['10.10 , 9.60 , 4.00'],\n",
    "    'Diamond Weights in Carats' : ['1.55, 1.20'],\n",
    "    'Gem Weight in Carat' : ['3.60'],\n",
    "    'Diamond Avg Color' : [' G-H-I'],\n",
    "    'Diamond Avg Clarity' : ['VS'],\n",
    "    'Gem Type if any' : ['Ruby'],\n",
    "    'Gem Average Clarity' : ['Good'],\n",
    "    'Gem Min Count': ['1'],\n",
    "    'Gem Max Count': ['25'],\n",
    "    'Diamond Min Count' : ['26'],\n",
    "    'Diamond Max Count' : ['50'],\n",
    "    'Ring Gross Weight in Grams' : ['13.75'],\n",
    "    'Overall Condition' : ['Very Good'],}\n",
    "\n",
    "dataframe1 = pd.DataFrame.from_dict(Diamond_Rings_data1)"
   ]
  },
  {
   "cell_type": "code",
   "execution_count": 63,
   "metadata": {},
   "outputs": [
    {
     "output_type": "execute_result",
     "data": {
      "text/plain": [
       "            Ring Metal                      Diamonds shape in each Ring  \\\n",
       "0             Platinum  emerald-cut diamond, triangular-shaped diamonds   \n",
       "0  Platinum, Gold Ring         full-cut diamonds, baguette-cut diamonds   \n",
       "\n",
       "     Gems shape if any    Measurments in mm Diamond Weights in Carats  \\\n",
       "0                 None  11.48 , 7.29 , 4.08               3.09 , 1.50   \n",
       "0  cushion-shaped ruby  10.10 , 9.60 , 4.00                1.55, 1.20   \n",
       "\n",
       "  Gem Weight in Carat Diamond Avg Color Diamond Avg Clarity Gem Type if any  \\\n",
       "0                None             G-H-I                  SI            None   \n",
       "0                3.60             G-H-I                  VS            Ruby   \n",
       "\n",
       "  Gem Average Clarity Gem Min Count Gem Max Count Diamond Min Count  \\\n",
       "0                None          None          None                 1   \n",
       "0                Good             1            25                26   \n",
       "\n",
       "  Diamond Max Count Ring Gross Weight in Grams Overall Condition  \n",
       "0                25                       6.60         Very Good  \n",
       "0                50                      13.75         Very Good  "
      ],
      "text/html": "<div>\n<style scoped>\n    .dataframe tbody tr th:only-of-type {\n        vertical-align: middle;\n    }\n\n    .dataframe tbody tr th {\n        vertical-align: top;\n    }\n\n    .dataframe thead th {\n        text-align: right;\n    }\n</style>\n<table border=\"1\" class=\"dataframe\">\n  <thead>\n    <tr style=\"text-align: right;\">\n      <th></th>\n      <th>Ring Metal</th>\n      <th>Diamonds shape in each Ring</th>\n      <th>Gems shape if any</th>\n      <th>Measurments in mm</th>\n      <th>Diamond Weights in Carats</th>\n      <th>Gem Weight in Carat</th>\n      <th>Diamond Avg Color</th>\n      <th>Diamond Avg Clarity</th>\n      <th>Gem Type if any</th>\n      <th>Gem Average Clarity</th>\n      <th>Gem Min Count</th>\n      <th>Gem Max Count</th>\n      <th>Diamond Min Count</th>\n      <th>Diamond Max Count</th>\n      <th>Ring Gross Weight in Grams</th>\n      <th>Overall Condition</th>\n    </tr>\n  </thead>\n  <tbody>\n    <tr>\n      <th>0</th>\n      <td>Platinum</td>\n      <td>emerald-cut diamond, triangular-shaped diamonds</td>\n      <td>None</td>\n      <td>11.48 , 7.29 , 4.08</td>\n      <td>3.09 , 1.50</td>\n      <td>None</td>\n      <td>G-H-I</td>\n      <td>SI</td>\n      <td>None</td>\n      <td>None</td>\n      <td>None</td>\n      <td>None</td>\n      <td>1</td>\n      <td>25</td>\n      <td>6.60</td>\n      <td>Very Good</td>\n    </tr>\n    <tr>\n      <th>0</th>\n      <td>Platinum, Gold Ring</td>\n      <td>full-cut diamonds, baguette-cut diamonds</td>\n      <td>cushion-shaped ruby</td>\n      <td>10.10 , 9.60 , 4.00</td>\n      <td>1.55, 1.20</td>\n      <td>3.60</td>\n      <td>G-H-I</td>\n      <td>VS</td>\n      <td>Ruby</td>\n      <td>Good</td>\n      <td>1</td>\n      <td>25</td>\n      <td>26</td>\n      <td>50</td>\n      <td>13.75</td>\n      <td>Very Good</td>\n    </tr>\n  </tbody>\n</table>\n</div>"
     },
     "metadata": {},
     "execution_count": 63
    }
   ],
   "source": [
    "dataframe.append(dataframe1)"
   ]
  },
  {
   "cell_type": "code",
   "execution_count": 67,
   "metadata": {},
   "outputs": [],
   "source": [
    "m = pf['Condition Report']"
   ]
  },
  {
   "cell_type": "code",
   "execution_count": 69,
   "metadata": {},
   "outputs": [],
   "source": [
    "m = m.str.split('\\n')"
   ]
  },
  {
   "cell_type": "code",
   "execution_count": 70,
   "metadata": {},
   "outputs": [
    {
     "output_type": "execute_result",
     "data": {
      "text/plain": [
       "['Condition Report*:',\n",
       " 'Diamond Average Color: G-H-I',\n",
       " 'Diamond Average Clarity: VS',\n",
       " 'Diamond Shapes: Full-cut, Tapered Baguette-cut',\n",
       " 'Diamond Count: 26 - 50',\n",
       " 'Gem Type: Ruby',\n",
       " 'Gem Average Clarity: Good',\n",
       " 'Gem Shape: Cushion-shaped',\n",
       " 'Gem Count: 1 - 25',\n",
       " 'Overall Condition: Very Good',\n",
       " 'Notes: Wonderful contrast between the ruby and diamonds.']"
      ]
     },
     "metadata": {},
     "execution_count": 70
    }
   ],
   "source": [
    "m[1110]"
   ]
  },
  {
   "cell_type": "code",
   "execution_count": 259,
   "metadata": {},
   "outputs": [],
   "source": [
    "def get_carats(x):\n",
    "    for item in x:\n",
    "        if 'measuring' in item and 'carats' in item:\n",
    "            mask = item.split('measuring')[1]\n",
    "            mask = mask.split('carats')[0]\n",
    "            if 'approximately' in mask:\n",
    "                mask = mask.split('approximately')[1]\n",
    "                return mask\n",
    "            elif 'weighing' in mask:\n",
    "                mask = mask.split('weighing')[1]\n",
    "                return mask\n",
    "            elif 'weighs' in mask:\n",
    "                mask = mask.split('weighs')[1]\n",
    "                return mask\n",
    "            else:\n",
    "                pass\n",
    "            return mask\n",
    "        elif 'measuring' in item and 'carat' in item:\n",
    "            mask = item.split('measuring')[1]\n",
    "            mask = mask.split('carat')[0]\n",
    "            if 'approximately' in mask:\n",
    "                mask = mask.split('approximately')[1]\n",
    "                return mask\n",
    "            # else:\n",
    "            #     # pass\n",
    "            elif 'weighing' in mask:\n",
    "                mask = mask.split('weighing')[1]\n",
    "                return mask\n",
    "            else:\n",
    "                pass\n",
    "            return mask\n",
    "        else:\n",
    "            pass"
   ]
  },
  {
   "cell_type": "code",
   "execution_count": 302,
   "metadata": {},
   "outputs": [],
   "source": [
    "diamond_carats = m3.apply(get_carats)"
   ]
  },
  {
   "cell_type": "code",
   "execution_count": 303,
   "metadata": {},
   "outputs": [
    {
     "output_type": "execute_result",
     "data": {
      "text/plain": [
       "0    3.45\n",
       "1    5.01\n",
       "2    6.40\n",
       "3    7.15\n",
       "4    5.04\n",
       "Name: Description, dtype: float64"
      ]
     },
     "metadata": {},
     "execution_count": 303
    }
   ],
   "source": [
    "diamond_carats =pd.to_numeric(carats, errors='coerce')\n",
    "diamond_carats.head()"
   ]
  },
  {
   "cell_type": "code",
   "execution_count": 320,
   "metadata": {},
   "outputs": [],
   "source": [
    "processed_diamond_ring_data = pd.DataFrame(columns=['Ring Price', 'Ring Gross Weight', 'Ring Size', 'Diamond Weight/Carats', 'Diamond Count' ])\n"
   ]
  },
  {
   "cell_type": "code",
   "execution_count": 321,
   "metadata": {},
   "outputs": [
    {
     "output_type": "execute_result",
     "data": {
      "text/plain": [
       "   Ring Price  Ring Gross Weight  Ring Size  Diamond Weight/Carats  \\\n",
       "0   4000000.0               5.10        6.0                   3.45   \n",
       "1   4000000.0               6.90        6.0                   5.01   \n",
       "2   4000000.0               4.47        4.0                   6.40   \n",
       "3   4000000.0               5.51        6.0                   7.15   \n",
       "4   4000000.0               5.90        6.0                   5.04   \n",
       "\n",
       "   Diamond Count  \n",
       "0           25.0  \n",
       "1           50.0  \n",
       "2           25.0  \n",
       "3           25.0  \n",
       "4           25.0  "
      ],
      "text/html": "<div>\n<style scoped>\n    .dataframe tbody tr th:only-of-type {\n        vertical-align: middle;\n    }\n\n    .dataframe tbody tr th {\n        vertical-align: top;\n    }\n\n    .dataframe thead th {\n        text-align: right;\n    }\n</style>\n<table border=\"1\" class=\"dataframe\">\n  <thead>\n    <tr style=\"text-align: right;\">\n      <th></th>\n      <th>Ring Price</th>\n      <th>Ring Gross Weight</th>\n      <th>Ring Size</th>\n      <th>Diamond Weight/Carats</th>\n      <th>Diamond Count</th>\n    </tr>\n  </thead>\n  <tbody>\n    <tr>\n      <th>0</th>\n      <td>4000000.0</td>\n      <td>5.10</td>\n      <td>6.0</td>\n      <td>3.45</td>\n      <td>25.0</td>\n    </tr>\n    <tr>\n      <th>1</th>\n      <td>4000000.0</td>\n      <td>6.90</td>\n      <td>6.0</td>\n      <td>5.01</td>\n      <td>50.0</td>\n    </tr>\n    <tr>\n      <th>2</th>\n      <td>4000000.0</td>\n      <td>4.47</td>\n      <td>4.0</td>\n      <td>6.40</td>\n      <td>25.0</td>\n    </tr>\n    <tr>\n      <th>3</th>\n      <td>4000000.0</td>\n      <td>5.51</td>\n      <td>6.0</td>\n      <td>7.15</td>\n      <td>25.0</td>\n    </tr>\n    <tr>\n      <th>4</th>\n      <td>4000000.0</td>\n      <td>5.90</td>\n      <td>6.0</td>\n      <td>5.04</td>\n      <td>25.0</td>\n    </tr>\n  </tbody>\n</table>\n</div>"
     },
     "metadata": {},
     "execution_count": 321
    }
   ],
   "source": [
    "processed_diamond_ring_data ['Ring Price']= diamond_ring_price\n",
    "processed_diamond_ring_data ['Ring Gross Weight']= ring_gross_weight\n",
    "processed_diamond_ring_data ['Ring Size'] = ring_size\n",
    "processed_diamond_ring_data ['Diamond Weight/Carats'] = diamond_carats\n",
    "processed_diamond_ring_data ['Diamond Count'] = diamond_count\n",
    "processed_diamond_ring_data.head()\n"
   ]
  },
  {
   "cell_type": "code",
   "execution_count": 322,
   "metadata": {},
   "outputs": [],
   "source": [
    "# processed_diamond_ring_data.to_csv('processed_diamond_ring_data.csv')"
   ]
  },
  {
   "cell_type": "code",
   "execution_count": null,
   "metadata": {},
   "outputs": [],
   "source": []
  }
 ]
}